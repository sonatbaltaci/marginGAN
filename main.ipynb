{
 "cells": [
  {
   "cell_type": "markdown",
   "metadata": {},
   "source": [
    "# MarginGAN\n",
    "\n",
    "The implementation of the NIPS 2019 paper \"MarginGAN: Adversarial Training in Semi-Supervised Learning\".\n",
    "\n",
    "#### Link: https://papers.nips.cc/paper/9231-margingan-adversarial-training-in-semi-supervised-learning7\n",
    "\n",
    "Can Ufuk Ertenli - 2030666 \\& Zeynep Sonat Baltacı - 2098788"
   ]
  },
  {
   "cell_type": "markdown",
   "metadata": {},
   "source": [
    "We start with a brief overview of MarginGAN.\n",
    "\n",
    "As it is stated in the paper:\n",
    "“The margin of a single data point is defined to be the distance from that data point to a decision boundary, which can be used to bound the generalization error of the classifier.”\n",
    "In semi-supervised learning, if the classifier chooses to believe the wrong pseudo labels (predicted labels for the unlabeled data), the margin between the decision boundaries decreases, which hurts the generalization accuracy. Therefore, large-margin classifiers should ignore those wrong pseudo labels for achieving higher accuracy. MarginGAN is a semi-supervised learning model which utilizes a standard GAN architecture to improve the performance of a classifier by increasing the margin of real examples and decreasing the margin of generated examples in parallel. \n",
    "\n",
    "In addition to a generator G and a discriminator D there is a classifier C in MarginGAN. D has an objective to classify real and fake images, regardless of whether it is labeled or unlabeled. C has the same objective as ordinary multi-class classifiers for labeled samples.  For unlabeled samples, the goal of the classifier is to increase the margin of these data points. However, since unlabeled samples has no known “true” label, one-hot encoded pseudo label concept is leveraged, which stores a 1 for the class with the maximum predicted probability of current C and 0 otherwise. As in the standard GAN, G tries to fool D by generating realistic examples. On the other hand, because C increases the margin of real examples and decreases the margin of fake examples, G generates data points having large margin to fool C. Therefore, in order to fool both D and C, G tries to generate realistic and large-margin examples simultaneously such that the generated fake data points cannot easily be separated from real examples. \n",
    "\n",
    "The paper uses 4 different number of labeled examples, $100$, $600$, $1000$ and $3000$ to conduct the experiments. For the generator and the discriminator, MarginGAN utilizes the well-known architecture of InfoGAN. To predict the pseudo labels, classifier architecture of MarginGAN is pre-trained for all label sizes to be used within the training of the corresponding architecture. The pretraining is performed until the classifier reached the accuracy levels of 80%, 93%, 95% and 97%, respectively for each label size. Later, it is fine-tuned with the generator and the discriminator. The generated examples of the final model are near the decision boundary, that is their class labels cannot be determined with ease, which satisfies the aim of the architecture.\n"
   ]
  },
  {
   "cell_type": "markdown",
   "metadata": {},
   "source": [
    "We perform our experiments using Python 3.7.6 and PyTorch 1.5.0. For the full details of the setup an environment.yml file has been provided. We provide both CPU and GPU support to execute the code. Our hyperparameters are set as the default arguments in our code. Here is a complete list of all hyperparameters: \n",
    "1. Learning Rate of Classifier: $0.01$\n",
    "2. Learning Rate of Generator: $0.0002$\n",
    "3. Learning Rate of Discriminator: $0.0002$\n",
    "4. Momentum for SGD Optimizer: $0.8$\n",
    "5. $\\beta_1$ for Adam Optimizer: $0.5$\n",
    "6. $\\beta_2$ for Adam Optimizer: $0.999$\n",
    "7. Batch Size: $50$\n",
    "8. Torch Seed: $0$\n",
    "\n",
    "Our code is presented below."
   ]
  },
  {
   "cell_type": "code",
   "execution_count": 1,
   "metadata": {},
   "outputs": [],
   "source": [
    "# Import necessary libraries\n",
    "import torch.optim as optim\n",
    "import torchvision.transforms as transforms\n",
    "import argparse\n",
    "import warnings\n",
    "from itertools import cycle\n",
    "from marginGAN import *\n",
    "from utils import *\n",
    "from dataset import *\n",
    "from model_paths import *"
   ]
  },
  {
   "cell_type": "code",
   "execution_count": 2,
   "metadata": {},
   "outputs": [],
   "source": [
    "# Set hyperparameters\n",
    "batch_size = 50\n",
    "seed = 0\n",
    "num_epochs = 50\n",
    "lrC = 0.01\n",
    "lrG = 0.0002\n",
    "lrD = 0.0002\n",
    "beta_1 = 0.5\n",
    "beta_2 = 0.999\n",
    "momentum = 0.8\n",
    "log_every = 1000\n",
    "job_id = 1\n",
    "device = \"cuda:0\""
   ]
  },
  {
   "cell_type": "code",
   "execution_count": 3,
   "metadata": {},
   "outputs": [],
   "source": [
    "# Select GPU/CPU\n",
    "if torch.cuda.is_available():\n",
    "    device = torch.device(device)\n",
    "else:\n",
    "    device = torch.device(\"cpu\")"
   ]
  },
  {
   "cell_type": "code",
   "execution_count": 4,
   "metadata": {},
   "outputs": [],
   "source": [
    "# Ignore warnings to avoid clutter when using different PyTorch versions\n",
    "warnings.filterwarnings(\"ignore\")\n",
    "\n",
    "# Provide manual seed for reproducibility\n",
    "torch.manual_seed(seed)\n",
    "\n",
    "# Create save directories\n",
    "create_dirs(job_id)"
   ]
  },
  {
   "cell_type": "code",
   "execution_count": 5,
   "metadata": {},
   "outputs": [],
   "source": [
    "# Create dictionary for storing parameters\n",
    "params = {'job_id': job_id,\n",
    "          'batch_size': batch_size,\n",
    "          'seed': seed,\n",
    "          'num_epochs': num_epochs,\n",
    "          'lrC': lrC,\n",
    "          'lrG': lrG,\n",
    "          'lrD': lrD,\n",
    "          'beta_1': beta_1,\n",
    "          'beta_2': beta_2,\n",
    "          'momentum': momentum,\n",
    "}\n",
    "\n",
    "# Save the hyperparameters\n",
    "param_log(params)"
   ]
  },
  {
   "cell_type": "code",
   "execution_count": 6,
   "metadata": {},
   "outputs": [],
   "source": [
    "# Load the datasets\n",
    "# Reserve 10,000 samples for validation\n",
    "dataset = torchvision.datasets.MNIST(\"./data\",train=True,transform=transforms.Compose([transforms.ToTensor(),transforms.Normalize((0.5,),(0.5,))]),target_transform=None,download=True)\n",
    "trainset, valset = torch.utils.data.random_split(dataset, [50000, 10000])\n",
    "testset = torchvision.datasets.MNIST(\"./data\",train=False,transform=transforms.Compose([transforms.ToTensor(),transforms.Normalize((0.5,), (0.5,))]),target_transform=None,download=True)\n",
    "\n",
    "valloader = torch.utils.data.DataLoader(\n",
    "                                    dataset=valset,\n",
    "                                    batch_size=batch_size,\n",
    "                                    shuffle=False)\n",
    "\n",
    "testloader = torch.utils.data.DataLoader(\n",
    "                                    dataset=testset,\n",
    "                                    batch_size=batch_size,\n",
    "                                    shuffle=False)"
   ]
  },
  {
   "cell_type": "code",
   "execution_count": 7,
   "metadata": {},
   "outputs": [],
   "source": [
    "# Use a fixed noise for the reproducibility of generated samples\n",
    "fixed_noise = torch.rand(batch_size,62).to(device)"
   ]
  },
  {
   "cell_type": "code",
   "execution_count": 8,
   "metadata": {},
   "outputs": [],
   "source": [
    "# Set the number of labeled examples\n",
    "label_sizes = [100,600,1000,3000]"
   ]
  },
  {
   "cell_type": "code",
   "execution_count": 9,
   "metadata": {},
   "outputs": [],
   "source": [
    "# Train and save the model\n",
    "# Perform training on 4 different number of labeled examples \n",
    "for label_size in label_sizes:\n",
    "    # Divide the dataset into labeled and unlabeled samples\n",
    "    labeled_set, unlabeled_set = divide_dataset(trainset, label_size)\n",
    "\n",
    "    labeled_loader = torch.utils.data.DataLoader(dataset=labeled_set,batch_size=batch_size,shuffle=True)\n",
    "    unlabeled_loader = torch.utils.data.DataLoader(dataset=unlabeled_set,batch_size=batch_size,shuffle=True)\n",
    "\n",
    "    # Load the model\n",
    "    marginGAN = MarginGAN(label_size=label_size,\n",
    "                          batch_size=batch_size,\n",
    "                          device=device,\n",
    "                          lrs=[lrD, lrG, lrC],\n",
    "                          beta_1=beta_1,\n",
    "                          beta_2=beta_2,\n",
    "                          momentum=momentum,\n",
    "                          pretrained=\"pretrained_classifiers/pre_cls_label_model_\"+str(label_size)+\".pt\")\n",
    "\n",
    "    # Cycle over the same labeled examples during training\n",
    "    zipped_loader = zip(cycle(labeled_loader), unlabeled_loader)\n",
    "\n",
    "    best_correct = 0\n",
    "\n",
    "    for epoch in range(num_epochs):\n",
    "        # Train for one epoch\n",
    "        marginGAN.train(zipped_loader,epoch,log_every)\n",
    "        # Reinitialize the iterator\n",
    "        zipped_loader = zip(cycle(labeled_loader), unlabeled_loader)\n",
    "\n",
    "        if (epoch+1) % 1 == 0:\n",
    "            # Evaluate the model on the validation set\n",
    "            correct_guesses = marginGAN.eval(valloader)\n",
    "\n",
    "            if correct_guesses > best_correct:\n",
    "                best_correct = correct_guesses\n",
    "                # Save the model\n",
    "                marginGAN.save(epoch,fixed_noise,job_id)\n",
    "                # Log the accuracy\n",
    "                print('[',epoch+1,']','Accuracy: %d %%' % (100 * correct_guesses / 10000), correct_guesses,\"/\", 10000)"
   ]
  },
  {
   "cell_type": "code",
   "execution_count": 11,
   "metadata": {},
   "outputs": [
    {
     "name": "stdout",
     "output_type": "stream",
     "text": [
      "-----------------------------------------------------------------------------\n",
      "| Label Size:  100 | Label Size:  600 | Label Size: 1000 | Label Size: 3000 |\n",
      "-----------------------------------------------------------------------------\n",
      "| 4.19 ± 0.22      | 2.90 ± 0.32      | 2.92 ± 0.36      | 2.33 ± 0.13      |\n",
      "-----------------------------------------------------------------------------\n"
     ]
    }
   ],
   "source": [
    "# Load and test the model\n",
    "print(\"-\"*77)\n",
    "for label_size in label_sizes:\n",
    "    if label_size == 100 or label_size == 600:\n",
    "        print(\"| Label Size: \", label_size, end = \" \")\n",
    "    else:\n",
    "        print(\"| Label Size:\", label_size, end = \" \")\n",
    "print(\"|\")\n",
    "print(\"-\"*77)\n",
    "for label_size in label_sizes:\n",
    "    all_model_paths = model_paths()\n",
    "    models = all_model_paths[str(label_size)]\n",
    "    worst_err = 100\n",
    "    best_err = 0\n",
    "    acc_hist = []\n",
    "    # Compute the average, best and worst error rates over 5 runs\n",
    "    for i in range(5):\n",
    "        marginGAN.load(models[i])\n",
    "        correct = marginGAN.test(fixed_noise,testloader)\n",
    "        acc_hist.append(correct)\n",
    "\n",
    "    avg_err = (10000 - np.mean(acc_hist))/100\n",
    "    worst_err = (10000 - min(acc_hist))/100\n",
    "    best_err = (10000 - max(acc_hist))/100\n",
    "    \n",
    "    # Print the table\n",
    "    if abs(avg_err - worst_err) > abs(avg_err - best_err):\n",
    "        print(\"| %.2f\" % (avg_err),u\"\\u00B1\",\"%.2f\" % (abs(avg_err-worst_err)),end = \"      \")\n",
    "    else:\n",
    "        print(\"| %.2f\" % (avg_err),u\"\\u00B1\",\"%.2f\" % (abs(avg_err-best_err)),end = \"      \")\n",
    "print(\"|\\n\"+\"-\"*77)"
   ]
  },
  {
   "cell_type": "code",
   "execution_count": 11,
   "metadata": {},
   "outputs": [
    {
     "data": {
      "image/png": "[encoded data removed]",
      "text/plain": [
       "<Figure size 432x288 with 1 Axes>"
      ]
     },
     "metadata": {
      "needs_background": "light"
     },
     "output_type": "display_data"
    }
   ],
   "source": [
    "# Generate two random integers to select a random model that is to be used in generating a fake image batch with MarginGAN's generator\n",
    "lab = np.random.randint(0,4)\n",
    "ind = np.random.randint(0,5)\n",
    "\n",
    "all_model_paths = model_paths()\n",
    "model = all_model_paths[str(label_sizes[lab])][ind]\n",
    "# Load the randomly selected model\n",
    "marginGAN.load(model)\n",
    "# Show the randomly sampled image\n",
    "marginGAN.imshow(fixed_noise)"
   ]
  },
  {
   "cell_type": "markdown",
   "metadata": {},
   "source": [
    "### Difficulties Encountered\n",
    "\n",
    "Although the overall idea to utilize the GAN architecture to enhance the semi-supervised learning process was clearly explained, crucial architectural details were missing:\n",
    "\n",
    "Firstly, since MNIST has no specific validation set, we separate 10000 samples to be used as the validation set for hyperparameter optimization. This was not mentioned in the paper.\n",
    "\n",
    "TWe know that the paper uses 4 different number of labeled examples for their experiments. However, randomly sampling 100 images, for example, from the training set may cause a class imbalance. Therefore, to create a balanced labeled training set, we choose equal number of examples from each class. After we divided the dataset into labeled and unlabeled subsets, we observed that there were different techniques in the literature to feed the data into the model in semi-supervised learning. In various research, all labeled and unlabeled images are passed into the architecture only once per epoch. On the other hand, since the number of unlabeled images are much higher than the number of labeled images, within one iteration, some researchers prefer to iterate the labeled images in a cycle until the unlabeled images are all passed. This choice wasn’t stated in the paper. We experimented with both options and iterating the labels gave better training performance and validation results.\n",
    "\n",
    "Classifier architecture was stated as a “6-layer” classifer but no further detail was given. The number of convolutional and fully-connected layers, the channel and kernel sizes of the layers, and the type of the activation functions were unclear. We first experimented on several architectures to satisfy the 6-layer architecture. However, increasing the number of layers by adding batch normalization following the convolutional layers improved our pretraining speed and performance (of the main architecture) remarkably. Therefore,  we set the architecture of the classifier a little bigger than it is in the paper.\n",
    "\n",
    "Most of the hyperparameters were not specified in the paper. Since MarginGAN uses the generator and the discriminator of the InfoGAN, we experimented with the hyper-parameter settings in the utilized in InfoGAN. Furthermore, we checked popular generative model papers like DCGAN to find a good range of learning rates for our discriminator and generator. We also investigated general practices used in research, and experimented with different settings. For the learning rate value of discriminator, we tried different values and for most cases the discriminator was stable. Therefore, we choose $0.0002$ which was the setting in InfoGAN and DCGAN, both. \n",
    "\n",
    "Choosing the learning rate for the generator was trickier. The learning rate used in InfoGAN was 0.001 but we found that this value was too high and the images generated with this learning rate made the generator unstable. Therefore, after experimenting with lower values, we choose $0.0002$ to be the learning rate of our generator.\n",
    "\n",
    "In the paper, they mention in Chapter 4.2 that they reduce the learning rate of the classifier from $0.1$ to $0.01$ in these experiments. We deduce that in Chapter 4.1 (where we reproduce the results) the paper uses $0.1$ learning rate for the classifier. However, after experimenting with different values of the learning rate and momentum parameter of SGD optimizer, we found that using a $0.01$ learning rate for the classifier was much more suitable along with a momentum value of $0.8$. Again, there was no mention of the momentum value that the authors used, in the paper.\n",
    "\n",
    "We use Adam optimizer for generator and discriminator and SGD optimizer for the classifier. In MarginGAN paper, it was not mentioned which optimizer they used. However, after checking some of the popular papers, we saw that it is common to use Adam optimizer for the generator and the discriminator with $\\beta_1$ value of $0.5$ and $\\beta_2$ value of $0.999$. Thus, we also use these values for our experiments. \n",
    "\n",
    "We chose the learning rate of classifier and generator $0.01$ and $0.0002$, respectively with experimentation and hyper-parameter tuning.\n",
    "\n"
   ]
  }
 ],
 "metadata": {
  "kernelspec": {
   "display_name": "Python 3",
   "language": "python",
   "name": "python3"
  },
  "language_info": {
   "codemirror_mode": {
    "name": "ipython",
    "version": 3
   },
   "file_extension": ".py",
   "mimetype": "text/x-python",
   "name": "python",
   "nbconvert_exporter": "python",
   "pygments_lexer": "ipython3",
   "version": "3.7.6"
  }
 },
 "nbformat": 4,
 "nbformat_minor": 4
}
